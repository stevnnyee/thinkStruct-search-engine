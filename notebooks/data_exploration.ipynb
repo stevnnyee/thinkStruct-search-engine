{
 "cells": [
  {
   "cell_type": "code",
   "execution_count": 14,
   "metadata": {
    "vscode": {
     "languageId": "plaintext"
    }
   },
   "outputs": [
    {
     "name": "stderr",
     "output_type": "stream",
     "text": [
      "INFO:src.data_loader:Loaded 10 patents from patents_ipa240905.json\n",
      "INFO:src.data_loader:Loaded 10 patents from patents_ipa250417.json\n",
      "INFO:src.data_loader:Loaded 10 patents from patents_ipa250102.json\n",
      "INFO:src.data_loader:Loaded 10 patents from patents_ipa240801.json\n",
      "INFO:src.data_loader:Loaded 10 patents from patents_ipa240704.json\n",
      "INFO:src.data_loader:Loaded 10 patents from patents_ipa241031.json\n",
      "INFO:src.data_loader:Loaded 10 patents from patents_ipa240620.json\n",
      "INFO:src.data_loader:Loaded 10 patents from patents_ipa240509.json\n",
      "INFO:src.data_loader:Loaded 10 patents from patents_ipa250227.json\n",
      "INFO:src.data_loader:Loaded 10 patents from patents_ipa241226.json\n",
      "INFO:src.data_loader:Loaded 10 patents from patents_ipa250123.json\n",
      "INFO:src.data_loader:Loaded 10 patents from patents_ipa240725.json\n",
      "INFO:src.data_loader:Loaded 10 patents from patents_ipa241114.json\n",
      "INFO:src.data_loader:Loaded 10 patents from patents_ipa250206.json\n",
      "INFO:src.data_loader:Loaded 10 patents from patents_ipa240314.json\n",
      "INFO:src.data_loader:Loaded 10 patents from patents_ipa241010.json\n",
      "INFO:src.data_loader:Loaded 10 patents from patents_ipa240912.json\n",
      "INFO:src.data_loader:Loaded 10 patents from patents_ipa240919.json\n",
      "INFO:src.data_loader:Loaded 10 patents from patents_ipa240523.json\n",
      "INFO:src.data_loader:Loaded 10 patents from patents_ipa240718.json\n",
      "INFO:src.data_loader:Loaded 10 patents from patents_ipa240411.json\n",
      "INFO:src.data_loader:Loaded 10 patents from patents_ipa250313.json\n",
      "INFO:src.data_loader:Loaded 10 patents from patents_ipa240606.json\n",
      "INFO:src.data_loader:Loaded 10 patents from patents_ipa241017.json\n",
      "INFO:src.data_loader:Loaded 10 patents from patents_ipa241128.json\n",
      "INFO:src.data_loader:Loaded 10 patents from patents_ipa250410.json\n",
      "INFO:src.data_loader:Loaded 10 patents from patents_ipa240502.json\n",
      "INFO:src.data_loader:Loaded 10 patents from patents_ipa240328.json\n",
      "INFO:src.data_loader:Loaded 10 patents from patents_ipa250109.json\n",
      "INFO:src.data_loader:Loaded 10 patents from patents_ipa250220.json\n",
      "INFO:src.data_loader:Loaded 10 patents from patents_ipa240627.json\n",
      "INFO:src.data_loader:Loaded 10 patents from patents_ipa240425.json\n",
      "INFO:src.data_loader:Loaded 10 patents from patents_ipa250130.json\n",
      "INFO:src.data_loader:Loaded 10 patents from patents_ipa250327.json\n",
      "INFO:src.data_loader:Loaded 10 patents from patents_ipa241003.json\n",
      "INFO:src.data_loader:Loaded 10 patents from patents_ipa240307.json\n",
      "INFO:src.data_loader:Loaded 10 patents from patents_ipa240215.json\n",
      "INFO:src.data_loader:Loaded 10 patents from patents_ipa241107.json\n",
      "INFO:src.data_loader:Loaded 10 patents from patents_ipa240829.json\n",
      "INFO:src.data_loader:Loaded 10 patents from patents_ipa250501.json\n",
      "INFO:src.data_loader:Loaded 10 patents from patents_ipa240404.json\n",
      "INFO:src.data_loader:Loaded 10 patents from patents_ipa240516.json\n",
      "INFO:src.data_loader:Loaded 10 patents from patents_ipa240613.json\n",
      "INFO:src.data_loader:Loaded 10 patents from patents_ipa250306.json\n",
      "INFO:src.data_loader:Loaded 10 patents from patents_ipa241219.json\n",
      "INFO:src.data_loader:Loaded 10 patents from patents_ipa240222.json\n",
      "INFO:src.data_loader:Loaded 10 patents from patents_ipa240808.json\n",
      "INFO:src.data_loader:Loaded 10 patents from patents_ipa250424.json\n",
      "INFO:src.data_loader:Loaded 10 patents from patents_ipa250213.json\n",
      "INFO:src.data_loader:Loaded 10 patents from patents_ipa240229.json\n",
      "INFO:src.data_loader:Loaded 10 patents from patents_ipa240815.json\n",
      "INFO:src.data_loader:Loaded 10 patents from patents_ipa250116.json\n",
      "INFO:src.data_loader:Loaded 10 patents from patents_ipa250403.json\n",
      "INFO:src.data_loader:Loaded 10 patents from patents_ipa241212.json\n",
      "INFO:src.data_loader:Loaded 10 patents from patents_ipa241121.json\n",
      "INFO:src.data_loader:Loaded 10 patents from patents_ipa240321.json\n",
      "INFO:src.data_loader:Loaded 10 patents from patents_ipa250320.json\n",
      "INFO:src.data_loader:Loaded 10 patents from patents_ipa241024.json\n",
      "INFO:src.data_loader:Loaded 10 patents from patents_ipa240418.json\n",
      "INFO:src.data_loader:Loaded 10 patents from patents_ipa240822.json\n",
      "INFO:src.data_loader:Loaded 10 patents from patents_ipa240926.json\n",
      "INFO:src.data_loader:Loaded 10 patents from patents_ipa240530.json\n",
      "INFO:src.data_loader:Loaded 10 patents from patents_ipa241205.json\n",
      "INFO:src.data_loader:Loaded 10 patents from patents_ipa240711.json\n",
      "INFO:src.data_loader:Total patents loaded: 640\n"
     ]
    },
    {
     "name": "stdout",
     "output_type": "stream",
     "text": [
      "Loaded 640 patents\n",
      "Columns: ['title', 'doc_number', 'filename', 'abstract', 'detailed_description', 'claims', 'bibtex', 'classification']\n"
     ]
    }
   ],
   "source": [
    "# IMPORTING DATA\n",
    "\n",
    "import sys\n",
    "sys.path.append('../')\n",
    "\n",
    "from src.data_loader import PatentDataLoader\n",
    "import pandas as pd\n",
    "import matplotlib.pyplot as plt\n",
    "import seaborn as sns\n",
    "\n",
    "# Load patent data\n",
    "loader = PatentDataLoader(\"../data/patent_data_small\")\n",
    "patents = loader.load_all_patents()\n",
    "df = loader.patents_to_dataframe(patents)\n",
    "\n",
    "print(f\"Loaded {len(df)} patents\")\n",
    "print(f\"Columns: {df.columns.tolist()}\")"
   ]
  },
  {
   "cell_type": "code",
   "execution_count": 15,
   "metadata": {
    "vscode": {
     "languageId": "plaintext"
    }
   },
   "outputs": [
    {
     "data": {
      "text/html": [
       "<div>\n",
       "<style scoped>\n",
       "    .dataframe tbody tr th:only-of-type {\n",
       "        vertical-align: middle;\n",
       "    }\n",
       "\n",
       "    .dataframe tbody tr th {\n",
       "        vertical-align: top;\n",
       "    }\n",
       "\n",
       "    .dataframe thead th {\n",
       "        text-align: right;\n",
       "    }\n",
       "</style>\n",
       "<table border=\"1\" class=\"dataframe\">\n",
       "  <thead>\n",
       "    <tr style=\"text-align: right;\">\n",
       "      <th></th>\n",
       "      <th>title</th>\n",
       "      <th>doc_number</th>\n",
       "      <th>filename</th>\n",
       "      <th>abstract</th>\n",
       "      <th>detailed_description</th>\n",
       "      <th>claims</th>\n",
       "      <th>bibtex</th>\n",
       "      <th>classification</th>\n",
       "    </tr>\n",
       "  </thead>\n",
       "  <tbody>\n",
       "    <tr>\n",
       "      <th>0</th>\n",
       "      <td>SAFETY BELT RETRACTOR PRE-WINDING AND BAFFLE I...</td>\n",
       "      <td>20240293901</td>\n",
       "      <td>US20240293901A1-20240905.XML</td>\n",
       "      <td>A safety belt retractor pre-winding and baffle...</td>\n",
       "      <td>[The following will give a clear and complete ...</td>\n",
       "      <td>[a winding mechanism ( the winding mechanism (...</td>\n",
       "      <td>@patent{20240293901,\\n    title = {SAFETY BELT...</td>\n",
       "      <td>B60R2246FI</td>\n",
       "    </tr>\n",
       "    <tr>\n",
       "      <th>1</th>\n",
       "      <td>VEHICLE WHEEL COVER</td>\n",
       "      <td>20240294035</td>\n",
       "      <td>US20240294035A1-20240905.XML</td>\n",
       "      <td>A vehicle wheel cover is provided. The vehicle...</td>\n",
       "      <td>[The following described implementations may b...</td>\n",
       "      <td>[a base; a printed layer formed at a first loc...</td>\n",
       "      <td>@patent{20240294035,\\n    title = {VEHICLE WHE...</td>\n",
       "      <td>B60B700FI</td>\n",
       "    </tr>\n",
       "    <tr>\n",
       "      <th>2</th>\n",
       "      <td>VEHICLE WHEEL COVER CASING AND A METHOD OF MAN...</td>\n",
       "      <td>20240294036</td>\n",
       "      <td>US20240294036A1-20240905.XML</td>\n",
       "      <td>A sleeve for covering vehicle wheels includes ...</td>\n",
       "      <td>[]</td>\n",
       "      <td>[1 .- 34 . (canceled), a fabric band having an...</td>\n",
       "      <td>@patent{20240294036,\\n    title = {VEHICLE WHE...</td>\n",
       "      <td>B60B1500FI</td>\n",
       "    </tr>\n",
       "    <tr>\n",
       "      <th>3</th>\n",
       "      <td>REMOVABLE WORK BOX CASTER</td>\n",
       "      <td>20240294037</td>\n",
       "      <td>US20240294037A1-20240905.XML</td>\n",
       "      <td>Removable work box casters for a job site work...</td>\n",
       "      <td>[FIG.1one shows a perspective view of a typica...</td>\n",
       "      <td>[(a) an upper plate segment, a lower plate seg...</td>\n",
       "      <td>@patent{20240294037,\\n    title = {REMOVABLE W...</td>\n",
       "      <td>B60B3300FI</td>\n",
       "    </tr>\n",
       "    <tr>\n",
       "      <th>4</th>\n",
       "      <td>VEHICLE PNEUMATIC TYRE AND RUBBER MIXTURE FOR ...</td>\n",
       "      <td>20240294038</td>\n",
       "      <td>US20240294038A1-20240905.XML</td>\n",
       "      <td>A pneumatic vehicle tire in radial design that...</td>\n",
       "      <td>[]</td>\n",
       "      <td>[wherein the tread is in the form of a single ...</td>\n",
       "      <td>@patent{20240294038,\\n    title = {VEHICLE PNE...</td>\n",
       "      <td>B60C1103FI</td>\n",
       "    </tr>\n",
       "  </tbody>\n",
       "</table>\n",
       "</div>"
      ],
      "text/plain": [
       "                                               title   doc_number  \\\n",
       "0  SAFETY BELT RETRACTOR PRE-WINDING AND BAFFLE I...  20240293901   \n",
       "1                                VEHICLE WHEEL COVER  20240294035   \n",
       "2  VEHICLE WHEEL COVER CASING AND A METHOD OF MAN...  20240294036   \n",
       "3                          REMOVABLE WORK BOX CASTER  20240294037   \n",
       "4  VEHICLE PNEUMATIC TYRE AND RUBBER MIXTURE FOR ...  20240294038   \n",
       "\n",
       "                       filename  \\\n",
       "0  US20240293901A1-20240905.XML   \n",
       "1  US20240294035A1-20240905.XML   \n",
       "2  US20240294036A1-20240905.XML   \n",
       "3  US20240294037A1-20240905.XML   \n",
       "4  US20240294038A1-20240905.XML   \n",
       "\n",
       "                                            abstract  \\\n",
       "0  A safety belt retractor pre-winding and baffle...   \n",
       "1  A vehicle wheel cover is provided. The vehicle...   \n",
       "2  A sleeve for covering vehicle wheels includes ...   \n",
       "3  Removable work box casters for a job site work...   \n",
       "4  A pneumatic vehicle tire in radial design that...   \n",
       "\n",
       "                                detailed_description  \\\n",
       "0  [The following will give a clear and complete ...   \n",
       "1  [The following described implementations may b...   \n",
       "2                                                 []   \n",
       "3  [FIG.1one shows a perspective view of a typica...   \n",
       "4                                                 []   \n",
       "\n",
       "                                              claims  \\\n",
       "0  [a winding mechanism ( the winding mechanism (...   \n",
       "1  [a base; a printed layer formed at a first loc...   \n",
       "2  [1 .- 34 . (canceled), a fabric band having an...   \n",
       "3  [(a) an upper plate segment, a lower plate seg...   \n",
       "4  [wherein the tread is in the form of a single ...   \n",
       "\n",
       "                                              bibtex classification  \n",
       "0  @patent{20240293901,\\n    title = {SAFETY BELT...     B60R2246FI  \n",
       "1  @patent{20240294035,\\n    title = {VEHICLE WHE...      B60B700FI  \n",
       "2  @patent{20240294036,\\n    title = {VEHICLE WHE...     B60B1500FI  \n",
       "3  @patent{20240294037,\\n    title = {REMOVABLE W...     B60B3300FI  \n",
       "4  @patent{20240294038,\\n    title = {VEHICLE PNE...     B60C1103FI  "
      ]
     },
     "metadata": {},
     "output_type": "display_data"
    },
    {
     "name": "stdout",
     "output_type": "stream",
     "text": [
      "\n",
      "Field Coverage:\n",
      "bibtex: 100.0%\n",
      "detailed_description: 100.0%\n",
      "abstract: 100.0%\n",
      "classification: 100.0%\n",
      "claims: 100.0%\n",
      "doc_number: 100.0%\n",
      "title: 100.0%\n",
      "filename: 100.0%\n"
     ]
    }
   ],
   "source": [
    "# ANALYSIS\n",
    "\n",
    "if len(df) > 0:\n",
    "    # Show first few patents\n",
    "    display(df.head())\n",
    "    \n",
    "    # Data quality analysis\n",
    "    analysis = loader.analyze_data_structure(patents)\n",
    "    \n",
    "    print(\"\\nField Coverage:\")\n",
    "    for field, coverage in analysis['field_coverage'].items():\n",
    "        print(f\"{field}: {coverage:.1%}\")"
   ]
  },
  {
   "cell_type": "code",
   "execution_count": 16,
   "metadata": {
    "vscode": {
     "languageId": "plaintext"
    }
   },
   "outputs": [
    {
     "data": {
      "image/png": "[encoded data removed]",
      "text/plain": [
       "<Figure size 1200x600 with 1 Axes>"
      ]
     },
     "metadata": {},
     "output_type": "display_data"
    }
   ],
   "source": [
    "# DATA COVERAGE\n",
    "\n",
    "if len(df) > 0:\n",
    "    plt.figure(figsize=(12, 6))\n",
    "    coverage_data = analysis['field_coverage']\n",
    "    \n",
    "    plt.subplot(1, 2, 1)\n",
    "    plt.bar(range(len(coverage_data)), list(coverage_data.values()))\n",
    "    plt.xticks(range(len(coverage_data)), list(coverage_data.keys()), rotation=45)\n",
    "    plt.title('Field Coverage Across Patents')\n",
    "    plt.ylabel('Coverage %')\n",
    "    \n",
    "    # Sample text lengths\n",
    "    if 'Claims' in df.columns:\n",
    "        plt.subplot(1, 2, 2)\n",
    "        claim_lengths = df['Claims'].fillna('').str.len()\n",
    "        plt.hist(claim_lengths, bins=50, edgecolor='black')\n",
    "        plt.title('Distribution of Claims Text Length')\n",
    "        plt.xlabel('Character Count')\n",
    "        plt.ylabel('Frequency')\n",
    "    \n",
    "    plt.tight_layout()\n",
    "    plt.show()"
   ]
  },
  {
   "cell_type": "code",
   "execution_count": 17,
   "metadata": {
    "vscode": {
     "languageId": "plaintext"
    }
   },
   "outputs": [
    {
     "name": "stdout",
     "output_type": "stream",
     "text": [
      "Sample Patent Titles:\n",
      "1. SAFETY BELT RETRACTOR PRE-WINDING AND BAFFLE INSTALLATION DEVICE\n",
      "2. VEHICLE WHEEL COVER\n",
      "3. VEHICLE WHEEL COVER CASING AND A METHOD OF MANUFACTURING A VEHICLE WHEEL COVER CASING\n",
      "4. REMOVABLE WORK BOX CASTER\n",
      "5. VEHICLE PNEUMATIC TYRE AND RUBBER MIXTURE FOR A TREAD\n",
      "6. TIRE AND A MOULD FOR MANUFACTURING A TIRE\n",
      "7. PNEUMATIC TIRE\n",
      "8. MOBILE CARBON CAPTURE SYSTEM ENHANCEMENT\n",
      "9. TIRE-REPAIRING CONNECTOR\n",
      "10. TOW HITCH LEAD IN SYSTEM\n"
     ]
    }
   ],
   "source": [
    "# PATENT SAMPLES\n",
    "\n",
    "if len(df) > 0 and 'title' in df.columns:\n",
    "    print(\"Sample Patent Titles:\")\n",
    "    sample_titles = df['title'].dropna().head(10)\n",
    "    for i, title in enumerate(sample_titles, 1):\n",
    "        print(f\"{i}. {title}\")"
   ]
  }
 ],
 "metadata": {
  "kernelspec": {
   "display_name": "Python 3 (ipykernel)",
   "language": "python",
   "name": "python3"
  },
  "language_info": {
   "codemirror_mode": {
    "name": "ipython",
    "version": 3
   },
   "file_extension": ".py",
   "mimetype": "text/x-python",
   "name": "python",
   "nbconvert_exporter": "python",
   "pygments_lexer": "ipython3",
   "version": "3.12.7"
  }
 },
 "nbformat": 4,
 "nbformat_minor": 4
}
