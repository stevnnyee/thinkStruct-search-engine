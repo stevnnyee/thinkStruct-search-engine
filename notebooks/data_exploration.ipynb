{
 "cells": [
  {
   "cell_type": "code",
   "execution_count": null,
   "metadata": {
    "vscode": {
     "languageId": "plaintext"
    }
   },
   "outputs": [],
   "source": [
    "# IMPORTING DATA\n",
    "\n",
    "import sys\n",
    "sys.path.append('../')\n",
    "\n",
    "from src.data_loader import PatentDataLoader\n",
    "import pandas as pd\n",
    "import matplotlib.pyplot as plt\n",
    "import seaborn as sns\n",
    "\n",
    "# Load patent data\n",
    "loader = PatentDataLoader(\"../data/patent_data_small\")\n",
    "patents = loader.load_all_patents()\n",
    "df = loader.patents_to_dataframe(patents)\n",
    "\n",
    "print(f\"Loaded {len(df)} patents\")\n",
    "print(f\"Columns: {df.columns.tolist()}\")"
   ]
  },
  {
   "cell_type": "code",
   "execution_count": null,
   "metadata": {
    "vscode": {
     "languageId": "plaintext"
    }
   },
   "outputs": [],
   "source": [
    "# ANALYSIS\n",
    "\n",
    "if len(df) > 0:\n",
    "    # Show first few patents\n",
    "    display(df.head())\n",
    "    \n",
    "    # Data quality analysis\n",
    "    analysis = loader.analyze_data_structure(patents)\n",
    "    \n",
    "    print(\"\\nField Coverage:\")\n",
    "    for field, coverage in analysis['field_coverage'].items():\n",
    "        print(f\"{field}: {coverage:.1%}\")"
   ]
  },
  {
   "cell_type": "code",
   "execution_count": null,
   "metadata": {
    "vscode": {
     "languageId": "plaintext"
    }
   },
   "outputs": [],
   "source": [
    "# DATA COVERAGE\n",
    "\n",
    "if len(df) > 0:\n",
    "    plt.figure(figsize=(12, 6))\n",
    "    coverage_data = analysis['field_coverage']\n",
    "    \n",
    "    plt.subplot(1, 2, 1)\n",
    "    plt.bar(range(len(coverage_data)), list(coverage_data.values()))\n",
    "    plt.xticks(range(len(coverage_data)), list(coverage_data.keys()), rotation=45)\n",
    "    plt.title('Field Coverage Across Patents')\n",
    "    plt.ylabel('Coverage %')\n",
    "    \n",
    "    # Sample text lengths\n",
    "    if 'Claims' in df.columns:\n",
    "        plt.subplot(1, 2, 2)\n",
    "        claim_lengths = df['Claims'].fillna('').str.len()\n",
    "        plt.hist(claim_lengths, bins=50, edgecolor='black')\n",
    "        plt.title('Distribution of Claims Text Length')\n",
    "        plt.xlabel('Character Count')\n",
    "        plt.ylabel('Frequency')\n",
    "    \n",
    "    plt.tight_layout()\n",
    "    plt.show()"
   ]
  },
  {
   "cell_type": "code",
   "execution_count": null,
   "metadata": {
    "vscode": {
     "languageId": "plaintext"
    }
   },
   "outputs": [],
   "source": [
    "# PATENT SAMPLES\n",
    "\n",
    "if len(df) > 0 and 'title' in df.columns:\n",
    "    print(\"Sample Patent Titles:\")\n",
    "    sample_titles = df['title'].dropna().head(10)\n",
    "    for i, title in enumerate(sample_titles, 1):\n",
    "        print(f\"{i}. {title}\")"
   ]
  }
 ],
 "metadata": {
  "language_info": {
   "name": "python"
  }
 },
 "nbformat": 4,
 "nbformat_minor": 2
}
